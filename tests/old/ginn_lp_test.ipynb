{
 "cells": [
  {
   "cell_type": "code",
   "id": "initial_id",
   "metadata": {
    "collapsed": true,
    "ExecuteTime": {
     "end_time": "2024-10-15T08:45:04.324923Z",
     "start_time": "2024-10-15T08:44:56.982883Z"
    }
   },
   "source": [
    "### Imports ###\n",
    "import sympy as sp\n",
    "import torch\n",
    "\n",
    "from ginnlp import GINNLP"
   ],
   "outputs": [
    {
     "name": "stdout",
     "output_type": "stream",
     "text": [
      "WARNING:tensorflow:From C:\\thesis\\venv\\Lib\\site-packages\\keras\\src\\losses.py:2976: The name tf.losses.sparse_softmax_cross_entropy is deprecated. Please use tf.compat.v1.losses.sparse_softmax_cross_entropy instead.\n",
      "\n"
     ]
    }
   ],
   "execution_count": 1
  },
  {
   "metadata": {
    "ExecuteTime": {
     "end_time": "2024-10-15T08:45:12.877667Z",
     "start_time": "2024-10-15T08:45:12.873285Z"
    }
   },
   "cell_type": "code",
   "source": [
    "from contextlib import contextmanager\n",
    "import sys, os\n",
    "\n",
    "@contextmanager\n",
    "def suppress_stdout():\n",
    "    with open(os.devnull, \"w\") as devnull:\n",
    "        old_stdout = sys.stdout\n",
    "        sys.stdout = devnull\n",
    "        try:\n",
    "            yield\n",
    "        finally:\n",
    "            sys.stdout = old_stdout"
   ],
   "id": "4cbe491fd17abf66",
   "outputs": [],
   "execution_count": 2
  },
  {
   "metadata": {
    "ExecuteTime": {
     "end_time": "2024-10-15T08:52:27.561709Z",
     "start_time": "2024-10-15T08:52:27.557327Z"
    }
   },
   "cell_type": "code",
   "source": [
    "### Data Preparation ###\n",
    "functions = [\n",
    "    '(2*x**2 + 3 * x + 3)/(x + 7)',\n",
    "    '(x**2 + 2)/(x**2 + 1)',\n",
    "    '(x**2 + x + 1)',\n",
    "    '(3*x**3 + 2 * x**2 + 5*x + 2)/(x**2 + 4*x + 8)',\n",
    "    '(3*x + 1)/(x**2 + 3)',\n",
    "    '(x**3 + 3*x**2 + 2*x + 1)/(x + 5)',\n",
    "    '(2*x**4 + x**3 + 7)/(x**2 + 1)',\n",
    "    '(x**2 + 3*x + 2)/(2*x + 3)',\n",
    "    '(5*x**2 + 3*x + 4)/(x**3 + 6)',\n",
    "    '(2*x + 2)/(x + 3)',\n",
    "    '(3*x**2 + 4*x + 5)/(x**2 + 2*x + 1)',\n",
    "    '(x**4 + x + 7)/(2*x**2 + 3*x + 9)',\n",
    "    '(3*x**2 + x + 2)/(x + 1)',\n",
    "    '(2*x**3 + 3)/(x**2 + 4)',\n",
    "    '(x**2 + 5)/(3*x + 1)',\n",
    "    '(x**5 + 2*x**3 + x)/(x**2 + 3*x + 2)',\n",
    "    '(4*x**2 + 2*x + 3)/(x + 2)',\n",
    "    '(3*x**3 + 3)/(x**4 + 1)',\n",
    "    '(2*x + 1)/(x**3 + 2*x**2 + 4*x + 8)',\n",
    "    '(x**3 + 2*x**2 + 3*x + 1)/(x**2 + 5*x + 2)'\n",
    "]\n",
    "\n",
    "\n",
    "recovered_functions = []\n",
    "x_train = torch.linspace(1, 5, 101).to('cpu').unsqueeze(0).T"
   ],
   "id": "58c9cd849eedb7bc",
   "outputs": [],
   "execution_count": 7
  },
  {
   "metadata": {
    "ExecuteTime": {
     "end_time": "2024-10-15T09:57:04.235179Z",
     "start_time": "2024-10-15T08:52:32.758157Z"
    }
   },
   "cell_type": "code",
   "source": [
    "### Training each function ###\n",
    "for i, function in enumerate(functions):\n",
    "    target_function = sp.lambdify('x', function)\n",
    "    y_train = target_function(x_train)\n",
    "    ginnLP = GINNLP(num_epochs=500, round_digits=3, start_ln_blocks=1, growth_steps=3,\n",
    "                    l1_reg=1e-4, l2_reg=1e-4, init_lr=0.01, decay_steps=1000, reg_change=0.5)\n",
    "    with suppress_stdout():\n",
    "        ginnLP.fit(x_train, y_train.squeeze())\n",
    "    print(\"Functions trained: {}\".format(i+1))\n",
    "    recovered_function = ginnLP.recovered_eq\n",
    "    recovered_functions.append(recovered_function)"
   ],
   "id": "10e2e2e3fb303ede",
   "outputs": [
    {
     "name": "stdout",
     "output_type": "stream",
     "text": [
      "Functions trained: 1\n",
      "Functions trained: 2\n",
      "Functions trained: 3\n",
      "Functions trained: 4\n",
      "Functions trained: 5\n",
      "Functions trained: 6\n",
      "Functions trained: 7\n",
      "Functions trained: 8\n",
      "Functions trained: 9\n",
      "Functions trained: 10\n",
      "Functions trained: 11\n",
      "Functions trained: 12\n",
      "Functions trained: 13\n",
      "Functions trained: 14\n",
      "Functions trained: 15\n",
      "Functions trained: 16\n",
      "Functions trained: 17\n",
      "Functions trained: 18\n",
      "Functions trained: 19\n",
      "Functions trained: 20\n"
     ]
    }
   ],
   "execution_count": 8
  },
  {
   "metadata": {
    "ExecuteTime": {
     "end_time": "2024-10-15T10:08:57.155410Z",
     "start_time": "2024-10-15T10:08:57.140862Z"
    }
   },
   "cell_type": "code",
   "source": "recovered_functions",
   "id": "a32eeb64f6b7dfa",
   "outputs": [
    {
     "data": {
      "text/plain": [
       "[0.348/X_0**0.185 + 0.07/X_0**0.018 + 0.581*X_0**1.379,\n",
       " 0.491/X_0**1.504 + 0.433/X_0**0.076,\n",
       " 0.36/X_0**0.302 + 0.319*X_0**0.05 + 0.892*X_0**0.292 + 1.458*X_0**1.854,\n",
       " -0.135/X_0**0.355 + 0.396/X_0**0.309 - 0.069*X_0**0.555 + 0.715*X_0**1.549,\n",
       " -0.179/X_0**0.87 + 0.639*X_0**0.239 + 1.347*X_0**0.261 - 0.778*X_0**0.714,\n",
       " -0.3/X_0**0.456 + 0.195*X_0**0.038 + 0.573*X_0**0.053 + 0.702*X_0**2.094,\n",
       " 2.669/X_0**1.757 + 0.348/X_0**1.264 + 0.315*X_0**1.248 + 1.926*X_0**2.036,\n",
       " 0.548*X_0**0.962,\n",
       " -2.563/X_0**2.222 - 0.742/X_0**2.13 + 3.54/X_0**0.748 + 1.518/X_0**0.747,\n",
       " -0.032/X_0**0.111 + 0.669*X_0**0.141 + 0.719*X_0**0.61 - 0.357*X_0**0.766,\n",
       " 0.829/X_0**0.643 + 1.225/X_0**0.245 - 0.102/X_0**0.21 + 1.043*X_0**0.321,\n",
       " 0.934/X_0**0.067 - 0.677*X_0**0.763 - 0.282*X_0**1.018 + 0.361*X_0**2.135,\n",
       " 1.996*X_0**1.153,\n",
       " -0.243*X_0**0.442 + 1.001*X_0**1.112 - 0.358*X_0**1.251 + 0.472*X_0**1.606,\n",
       " 1.001/X_0**0.869 - 0.e-3/X_0**0.042 + 0.334*X_0**0.002 + 0.165*X_0**1.279,\n",
       " -0.194/X_0**0.61 + 0.447*X_0**0.015 + 0.06*X_0**0.605 + 0.37*X_0**3.342,\n",
       " 0.453/X_0**1.169 + 1.504*X_0**1.166 - 0.464*X_0**1.17 + 1.298*X_0**1.213,\n",
       " 3.698/X_0**0.666 - 0.26*X_0**0.071 - 0.487*X_0**0.47 + 0.082*X_0**1.241,\n",
       " -0.775*X_0**0.987 + 0.607*X_0**0.99 + 0.069*X_0**1.299,\n",
       " -0.039/X_0**0.272 + 0.484/X_0**0.172 + 0.431*X_0**1.273]"
      ]
     },
     "execution_count": 9,
     "metadata": {},
     "output_type": "execute_result"
    }
   ],
   "execution_count": 9
  }
 ],
 "metadata": {
  "kernelspec": {
   "display_name": "Python 3",
   "language": "python",
   "name": "python3"
  },
  "language_info": {
   "codemirror_mode": {
    "name": "ipython",
    "version": 2
   },
   "file_extension": ".py",
   "mimetype": "text/x-python",
   "name": "python",
   "nbconvert_exporter": "python",
   "pygments_lexer": "ipython2",
   "version": "2.7.6"
  }
 },
 "nbformat": 4,
 "nbformat_minor": 5
}
